{
 "cells": [
  {
   "cell_type": "code",
   "execution_count": 1,
   "id": "a89139f1-40a5-4cc8-95b4-40495d42ec70",
   "metadata": {},
   "outputs": [
    {
     "ename": "ModuleNotFoundError",
     "evalue": "No module named 'plotly'",
     "output_type": "error",
     "traceback": [
      "\u001b[1;31m---------------------------------------------------------------------------\u001b[0m",
      "\u001b[1;31mModuleNotFoundError\u001b[0m                       Traceback (most recent call last)",
      "Cell \u001b[1;32mIn[1], line 3\u001b[0m\n\u001b[0;32m      1\u001b[0m \u001b[38;5;28;01mimport\u001b[39;00m \u001b[38;5;21;01mpandas\u001b[39;00m \u001b[38;5;28;01mas\u001b[39;00m \u001b[38;5;21;01mpd\u001b[39;00m\n\u001b[0;32m      2\u001b[0m \u001b[38;5;28;01mimport\u001b[39;00m \u001b[38;5;21;01mnumpy\u001b[39;00m \u001b[38;5;28;01mas\u001b[39;00m \u001b[38;5;21;01mnp\u001b[39;00m\n\u001b[1;32m----> 3\u001b[0m \u001b[38;5;28;01mimport\u001b[39;00m \u001b[38;5;21;01mplotly\u001b[39;00m\u001b[38;5;21;01m.\u001b[39;00m\u001b[38;5;21;01mexpress\u001b[39;00m \u001b[38;5;28;01mas\u001b[39;00m \u001b[38;5;21;01mpx\u001b[39;00m\n\u001b[0;32m      4\u001b[0m \u001b[38;5;28;01mimport\u001b[39;00m \u001b[38;5;21;01mplotly\u001b[39;00m\u001b[38;5;21;01m.\u001b[39;00m\u001b[38;5;21;01mgraph_objects\u001b[39;00m \u001b[38;5;28;01mas\u001b[39;00m \u001b[38;5;21;01mgo\u001b[39;00m\n\u001b[0;32m      5\u001b[0m \u001b[38;5;28;01mfrom\u001b[39;00m \u001b[38;5;21;01mscipy\u001b[39;00m \u001b[38;5;28;01mimport\u001b[39;00m stats\n",
      "\u001b[1;31mModuleNotFoundError\u001b[0m: No module named 'plotly'"
     ]
    }
   ],
   "source": [
    "import pandas as pd\n",
    "import numpy as np\n",
    "import plotly.express as px\n",
    "import plotly.graph_objects as go\n",
    "from scipy import stats\n",
    "\n",
    "# Cargar el dataset\n",
    "df = pd.read_csv('amazon_products.csv')\n",
    "\n",
    "# Convertir 'sales_volume' a numérico si es necesario\n",
    "df['sales_volume'] = pd.to_numeric(df['sales_volume'], errors='coerce')\n",
    "\n",
    "# 4.1. Distribución de cada variable\n",
    "# 4.1.1. Variables categóricas\n",
    "categorical_cols = df.select_dtypes(include=['object']).columns\n",
    "for col in categorical_cols:\n",
    "    counts = df[col].value_counts()\n",
    "    fig = px.bar(x=counts.index, y=counts.values, labels={'x': col, 'y': 'Number of Observations'})\n",
    "    fig.update_layout(title=f'Distribution of {col}')\n",
    "    fig.show()\n",
    "\n",
    "# 4.1.2. Variables numéricas\n",
    "numeric_cols = df.select_dtypes(include=['number']).columns\n",
    "for col in numeric_cols:\n",
    "    # Histograma\n",
    "    fig = px.histogram(df, x=col, nbins=50, labels={'x': col})\n",
    "    fig.update_layout(title=f'Histogram of {col}')\n",
    "    fig.show()\n",
    "\n",
    "    # Outliers\n",
    "    mean = df[col].mean()\n",
    "    std_dev = df[col].std()\n",
    "    outliers = df[np.abs(df[col] - mean) > 5 * std_dev]\n",
    "    print(f'Outliers for {col}:')\n",
    "    print(outliers)\n",
    "\n",
    "    # Prueba de normalidad\n",
    "    k2, p = stats.normaltest(df[col].dropna())\n",
    "    print(f'Normality test for {col}: p-value = {p}')\n",
    "\n",
    "# 4.2. Gráfico de la relación con 'sales_volume'\n",
    "# 4.2.1. Variables categóricas\n",
    "for col in categorical_cols:\n",
    "    fig = px.box(df, x=col, y='sales_volume', labels={'x': col, 'y': 'Sales Volume'})\n",
    "    fig.update_layout(title=f'Boxplot of Sales Volume by {col}')\n",
    "    fig.show()\n",
    "\n",
    "# 4.2.2. Variables numéricas\n",
    "for col in numeric_cols:\n",
    "    fig = px.scatter(df, x=col, y='sales_volume', labels={'x': col, 'y': 'Sales Volume'})\n",
    "    fig.update_layout(title=f'Scatter Plot of Sales Volume vs {col}')\n",
    "    fig.show()\n",
    "\n",
    "# 4.3. Matriz de correlación\n",
    "correlation_matrix = df.corr()\n",
    "fig = px.imshow(correlation_matrix, text_auto=True, color_continuous_scale='RdBu_r', aspect='auto')\n",
    "fig.update_layout(title='Correlation Matrix')\n",
    "fig.show()\n",
    "\n",
    "# 4.3.1. Variables más importantes para explicar la variabilidad de sales_volume\n",
    "correlation_with_sales = correlation_matrix['sales_volume']\n",
    "print('Correlation with sales_volume:')\n",
    "print(correlation_with_sales)\n",
    "\n",
    "# 4.3.2. Crear variables dummy y calcular la matriz de correlación nuevamente\n",
    "df_dummies = pd.get_dummies(df, drop_first=True)\n",
    "correlation_matrix_dummies = df_dummies.corr()\n",
    "fig = px.imshow(correlation_matrix_dummies, text_auto=True, color_continuous_scale='RdBu_r', aspect='auto')\n",
    "fig.update_layout(title='Correlation Matrix with Dummy Variables')\n",
    "fig.show()\n",
    "\n",
    "# Variable categórica con mayor correlación\n",
    "max_corr_categorical = correlation_matrix_dummies.filter(like='_').abs().max().idxmax()\n",
    "print(f'Variable categórica con mayor correlación: {max_corr_categorical}')\n"
   ]
  },
  {
   "cell_type": "code",
   "execution_count": null,
   "id": "3f81b765-d764-46bc-9330-056810546f92",
   "metadata": {},
   "outputs": [],
   "source": []
  },
  {
   "cell_type": "code",
   "execution_count": null,
   "id": "102de178-6230-4343-b032-7e636be4ef14",
   "metadata": {},
   "outputs": [],
   "source": [
    "pip install pandas numpy plotly scipy statsmodels\n"
   ]
  }
 ],
 "metadata": {
  "kernelspec": {
   "display_name": "Python 3 (ipykernel)",
   "language": "python",
   "name": "python3"
  },
  "language_info": {
   "codemirror_mode": {
    "name": "ipython",
    "version": 3
   },
   "file_extension": ".py",
   "mimetype": "text/x-python",
   "name": "python",
   "nbconvert_exporter": "python",
   "pygments_lexer": "ipython3",
   "version": "3.12.0"
  }
 },
 "nbformat": 4,
 "nbformat_minor": 5
}
