{
 "cells": [
  {
   "cell_type": "code",
   "execution_count": 2,
   "metadata": {},
   "outputs": [],
   "source": [
    "import pandas as pd # type: ignore\n",
    "import numpy as np # type: ignore\n",
    "from sklearn.preprocessing import StandardScaler # type: ignore\n",
    "from scipy.spatial.distance import cdist # type: ignore\n",
    "import matplotlib.pyplot as plt # type: ignore\n",
    "\n",
    "df_train = pd.read_csv(\"../datos-estadistica/X_train.csv\", header=0)\n",
    "\n",
    "df_test = pd.read_csv(\"../datos-estadistica/X_test.csv\", header=0)\n",
    "\n",
    "\n",
    "#escalar los datos\n",
    "scaler = StandardScaler()\n",
    "df_train_scaled = scaler.fit_transform(df_train.drop('City', axis=1, inplace=False))\n",
    "df_test_scaled = scaler.fit_transform(df_test.drop('City', axis=1, inplace=False))\n",
    "\n",
    "def initialize_centroids(df, k):\n",
    "    \"\"\"Inicializa los centroides seleccionando k puntos aleatorios de los datos\"\"\"\n",
    "    return df[np.random.choice(df.shape[0], k, replace=False)]\n",
    "\n",
    "def assign_clusters(df, centroids):\n",
    "    \"\"\"Asigna cada punto al cluster más cercano\"\"\"\n",
    "    distances = cdist(df, centroids, 'euclidean')\n",
    "    return np.argmin(distances, axis=1)\n",
    "\n",
    "def update_centroids(df, labels, k):\n",
    "    \"\"\"Recalcula los centroides como la media de todos los puntos asignados a cada cluster\"\"\"\n",
    "    new_centroids = np.zeros((k, df.shape[1]))\n",
    "    for i in range(k):\n",
    "        points_in_cluster = df[labels == i]\n",
    "        new_centroids[i, :] = points_in_cluster.mean(axis=0)\n",
    "    return new_centroids\n",
    "\n",
    "def kmeans(df, k, max_iters=100, tol=1e-4):\n",
    "    \"\"\"Implementación del algoritmo K-means desde cero\"\"\"\n",
    "    centroids = initialize_centroids(df, k)\n",
    "    \n",
    "    for _ in range(max_iters):\n",
    "        labels = assign_clusters(df, centroids)\n",
    "        new_centroids = update_centroids(df, labels, k)\n",
    "        \n",
    "        # Verificar la convergencia (si los centroides no cambian mucho)\n",
    "        if np.all(np.abs(new_centroids - centroids) < tol):\n",
    "            break\n",
    "        \n",
    "        centroids = new_centroids\n",
    "    \n",
    "    return centroids, labels\n",
    "\n",
    "# Ejecutar K-means y asignar clusters a los datos de entrenamiento y prueba\n",
    "centroids, labels = kmeans(df_train_scaled, 6)\n",
    "df_train['Cluster'] = labels\n",
    "df_test['Cluster_Predicted'] = assign_clusters(df_test_scaled, centroids)\n",
    "\n",
    "# Encontrar las ciudades más cercanas en el conjunto de entrenamiento\n",
    "closest_cities = []\n",
    "for i, row in df_test.iterrows():\n",
    "    cluster_id = row['Cluster_Predicted']\n",
    "    \n",
    "    # Filtrar las ciudades que pertenecen al mismo cluster\n",
    "    cities_in_cluster = df_train[df_train['Cluster'] == cluster_id]\n",
    "    \n",
    "    # Escalar las ciudades de ese cluster (usando el mismo scaler)\n",
    "    cities_in_cluster_scaled = scaler.transform(cities_in_cluster.drop(['City', 'Cluster'], axis=1))\n",
    "    \n",
    "    # Calcular la distancia de la ciudad de prueba al centroide del cluster\n",
    "    distances_to_cities = cdist([df_test_scaled[i]], cities_in_cluster_scaled, 'euclidean')\n",
    "    \n",
    "    # Encontrar el índice de la ciudad más cercana dentro del cluster\n",
    "    closest_city_index = np.argmin(distances_to_cities)\n",
    "    \n",
    "    # Obtener el nombre de la ciudad más cercana\n",
    "    closest_city = cities_in_cluster.iloc[closest_city_index]['City']\n",
    "    \n",
    "    closest_cities.append(closest_city)\n",
    "\n",
    "# Añadir las ciudades más cercanas\n",
    "df_test['Closest_City'] = closest_cities\n",
    "\n",
    "#Crear archivo de submission\n",
    "df_submission = df_test[['City', 'Closest_City']]\n",
    "df_submission.columns = ['ID', 'label']\n",
    "df_submission.to_csv('submission.csv', index=False)"
   ]
  },
  {
   "cell_type": "code",
   "execution_count": 3,
   "metadata": {},
   "outputs": [],
   "source": [
    "df_submission = pd.read_csv('submission.csv')\n",
    "df_submission.dropna(how='all', inplace=True)  # Elimina filas donde todos los valores sean NaN\n",
    "df_submission.to_csv('submission.csv', index=False)"
   ]
  },
  {
   "cell_type": "code",
   "execution_count": 4,
   "metadata": {},
   "outputs": [
    {
     "data": {
      "image/png": "[encoded data removed]",
      "text/plain": [
       "<Figure size 1000x700 with 1 Axes>"
      ]
     },
     "metadata": {},
     "output_type": "display_data"
    }
   ],
   "source": [
    "# Cálculo del dendograma con distancia máxima \n",
    "def calculate_distance_matrix(data):\n",
    "    num_samples = data.shape[0]\n",
    "    distance_matrix = np.zeros((num_samples, num_samples))\n",
    "    for i in range(num_samples):\n",
    "        for j in range(i+1, num_samples):\n",
    "            distance = np.linalg.norm(data[i] - data[j])\n",
    "            distance_matrix[i, j] = distance\n",
    "            distance_matrix[j, i] = distance\n",
    "    return distance_matrix\n",
    "\n",
    "def initialize_clusters(num_samples):\n",
    "    return [[i] for i in range(num_samples)]\n",
    "\n",
    "def hierarchical_clustering(distance_matrix, clusters):\n",
    "    num_samples = distance_matrix.shape[0]\n",
    "    dendrogram = []\n",
    "    while len(clusters) > 1:\n",
    "        min_distance = float('inf')\n",
    "        merge_pair = None\n",
    "\n",
    "        for i in range(len(clusters)):\n",
    "            for j in range(i + 1, len(clusters)):\n",
    "                distance = max([distance_matrix[p1, p2] for p1 in clusters[i] for p2 in clusters[j]])\n",
    "                if distance < min_distance:\n",
    "                    min_distance = distance\n",
    "                    merge_pair = (i, j)\n",
    "\n",
    "        cluster1, cluster2 = merge_pair\n",
    "        new_cluster = clusters[cluster1] + clusters[cluster2]\n",
    "        clusters = [clusters[i] for i in range(len(clusters)) if i not in merge_pair]\n",
    "        clusters.append(new_cluster)\n",
    "        \n",
    "        dendrogram.append((cluster1, cluster2, min_distance))\n",
    "        \n",
    "    return dendrogram\n",
    "\n",
    "def plot_dendrogram(dendrogram, num_samples):\n",
    "    plt.figure(figsize=(10, 7))\n",
    "    heights = [x[2] for x in dendrogram]\n",
    "    for i, (c1, c2, height) in enumerate(dendrogram):\n",
    "        plt.plot([c1, c2], [height, height], 'k-')\n",
    "        plt.plot([c1, c1], [0, height], 'k--')\n",
    "        plt.plot([c2, c2], [0, height], 'k--')\n",
    "    plt.title('Dendograma con Distancia Máxima')\n",
    "    plt.xlabel('Clusters')\n",
    "    plt.ylabel('Distancia')\n",
    "    plt.show()\n",
    "\n",
    "# Cálculos\n",
    "distance_matrix = calculate_distance_matrix(df_train_scaled)\n",
    "clusters = initialize_clusters(df_train_scaled.shape[0])\n",
    "dendrogram = hierarchical_clustering(distance_matrix, clusters)\n",
    "plot_dendrogram(dendrogram, df_train_scaled.shape[0])"
   ]
  },
  {
   "cell_type": "code",
   "execution_count": 74,
   "metadata": {},
   "outputs": [
    {
     "name": "stdout",
     "output_type": "stream",
     "text": [
      "[[1.035e+02 7.180e+00]\n",
      " [4.410e+01 2.570e+00]\n",
      " [2.240e+01 2.230e+00]\n",
      " [1.680e+01 1.230e+00]\n",
      " [1.050e+01 1.030e+00]\n",
      " [7.300e+00 5.800e-01]\n",
      " [6.200e+00 4.800e-01]\n",
      " [5.100e+00 7.600e-01]\n",
      " [4.800e+00 5.300e-01]\n",
      " [4.000e+00 5.200e-01]\n",
      " [3.800e+00 4.300e-01]\n",
      " [3.500e+00 5.000e-01]\n",
      " [3.200e+00 4.500e-01]\n",
      " [3.000e+00 4.900e-01]\n",
      " [2.800e+00 4.700e-01]\n",
      " [2.500e+00 3.500e-01]\n",
      " [2.300e+00 3.300e-01]\n",
      " [2.100e+00 3.000e-01]\n",
      " [2.000e+00 2.800e-01]\n",
      " [1.800e+00 2.500e-01]\n",
      " [1.700e+00 2.000e-01]\n",
      " [1.500e+00 2.200e-01]\n",
      " [1.300e+00 1.300e-01]\n",
      " [1.200e+00 8.000e-02]\n",
      " [1.100e+00 1.500e-01]\n",
      " [1.000e+00 5.000e-02]\n",
      " [9.000e-01 8.000e-02]\n",
      " [8.000e-01 4.000e-02]\n",
      " [7.000e-01 1.000e-02]\n",
      " [6.000e-01 1.000e-02]]\n"
     ]
    }
   ],
   "source": [
    "# Ruta al archivo Excel de todos los datos \n",
    "ruta_archivo = \"../datos-estadistica/datos.xlsx\"\n",
    "\n",
    "# Leer el archivo Excel\n",
    "df = pd.read_excel(ruta_archivo)\n",
    "\n",
    "data = df[['GDP (USD Billion)', 'Population (Millions)']].values\n",
    "# Normalizar los datos\n",
    "def normalize_data(data):\n",
    "    n = len(data)\n",
    "    means = [sum(row[i] for row in data) / n for i in range(len(data[0]))]\n",
    "    std_devs = [((sum((row[i] - means[i]) ** 2 for row in data) / n) ** 0.5) for i in range(len(data[0]))]\n",
    "    normalized = [[(row[i] - means[i]) / std_devs[i] for i in range(len(row))] for row in data]\n",
    "    return normalized, means, std_devs\n",
    "\n",
    "data_normalized, mean, std_dev = normalize_data(data)"
   ]
  },
  {
   "cell_type": "code",
   "execution_count": 7,
   "metadata": {},
   "outputs": [
    {
     "name": "stdout",
     "output_type": "stream",
     "text": [
      "Matriz de Covarianza:\n",
      "[1.0344827586206897, 1.0246659968794567]\n",
      "[1.0246659968794567, 1.0344827586206895]\n"
     ]
    }
   ],
   "source": [
    "def compute_covariance_matrix(data):\n",
    "    n = len(data)\n",
    "    m = len(data[0])\n",
    "    cov_matrix = [[0] * m for _ in range(m)]\n",
    "    for i in range(m):\n",
    "        for j in range(m):\n",
    "            cov_matrix[i][j] = sum(data[k][i] * data[k][j] for k in range(n)) / (n - 1)\n",
    "    return cov_matrix\n",
    "\n",
    "cov_matrix = compute_covariance_matrix(data_normalized)\n",
    "print(\"Matriz de Covarianza:\")\n",
    "for row in cov_matrix:\n",
    "    print(row)"
   ]
  },
  {
   "cell_type": "code",
   "execution_count": 8,
   "metadata": {},
   "outputs": [
    {
     "name": "stdout",
     "output_type": "stream",
     "text": [
      "Eigenvalues:\n",
      " [2.059148755500146, 0.009816761741232917]\n",
      "Eigenvectors:\n",
      " [[0.7071067811865475, 0.7071067811865475], [0.7071067811869476, -0.7071067811861476]]\n"
     ]
    }
   ],
   "source": [
    "#Calcular Eigenvalues y Eigenvectors\n",
    "def power_method(matrix, num_iterations=1000, tolerance=1e-6):\n",
    "    n = len(matrix)\n",
    "    b = [1] * n\n",
    "    for _ in range(num_iterations):\n",
    "        # Multiplicación de la matriz por b\n",
    "        b_next = [sum(matrix[i][j] * b[j] for j in range(n)) for i in range(n)]\n",
    "        norm = sum(x ** 2 for x in b_next) ** 0.5\n",
    "        b_next = [x / norm for x in b_next]\n",
    "        # Verificar convergencia\n",
    "        if sum(abs(b_next[i] - b[i]) for i in range(n)) < tolerance:\n",
    "            break\n",
    "        b = b_next\n",
    "    eigenvalue = sum(b[i] * sum(matrix[i][j] * b[j] for j in range(n)) for i in range(n))\n",
    "    return eigenvalue, b\n",
    "\n",
    "def compute_eigenvalues_and_eigenvectors(matrix):\n",
    "    n = len(matrix)\n",
    "    eigenvalues = []\n",
    "    eigenvectors = []\n",
    "    for _ in range(n):\n",
    "        eigenvalue, eigenvector = power_method(matrix)\n",
    "        eigenvalues.append(eigenvalue)\n",
    "        eigenvectors.append(eigenvector)\n",
    "        # Deflacionar la matriz\n",
    "        matrix = [[matrix[i][j] - eigenvalue * eigenvector[i] * eigenvector[j] for j in range(n)] for i in range(n)]\n",
    "    return eigenvalues, eigenvectors\n",
    "\n",
    "eigenvalues, eigenvectors = compute_eigenvalues_and_eigenvectors(cov_matrix)\n",
    "print(\"Eigenvalues:\\n\", eigenvalues)\n",
    "print(\"Eigenvectors:\\n\", eigenvectors)\n"
   ]
  },
  {
   "cell_type": "code",
   "execution_count": 25,
   "metadata": {},
   "outputs": [
    {
     "name": "stdout",
     "output_type": "stream",
     "text": [
      "Varianza Explicada por el Eigenvalue:\n",
      " [0.9952552318250707, 0.004744768174929244]\n"
     ]
    }
   ],
   "source": [
    "#Calcular la Varianza Explicada por el Eigenvalue\n",
    "def variance_explained(eigenvalues):\n",
    "    total_variance = sum(eigenvalues)\n",
    "    return [eigenvalue / total_variance for eigenvalue in eigenvalues]\n",
    "\n",
    "explained_variance_ratio = variance_explained(eigenvalues)\n",
    "print(\"Varianza Explicada por el Eigenvalue:\\n\", explained_variance_ratio)\n"
   ]
  },
  {
   "cell_type": "code",
   "execution_count": 26,
   "metadata": {},
   "outputs": [
    {
     "name": "stdout",
     "output_type": "stream",
     "text": [
      "Valor del Eigenvector Principal:\n",
      " [0.7071067811865475, 0.7071067811865475]\n"
     ]
    }
   ],
   "source": [
    "#Obtener el Eigenvector Principal\n",
    "def get_principal_eigenvector(eigenvalues, eigenvectors):\n",
    "    max_index = eigenvalues.index(max(eigenvalues))\n",
    "    return eigenvectors[max_index]\n",
    "\n",
    "principal_eigenvector = get_principal_eigenvector(eigenvalues, eigenvectors)\n",
    "print(\"Valor del Eigenvector Principal:\\n\", principal_eigenvector)\n"
   ]
  },
  {
   "cell_type": "code",
   "execution_count": 22,
   "metadata": {},
   "outputs": [
    {
     "name": "stdout",
     "output_type": "stream",
     "text": [
      "Matriz Proyectada:\n",
      " [6.850254902970839, 2.2542914886585734, 1.289860705902846, 0.5559990515941915, 0.22215487242440518, -0.1326405663869753, -0.22552843029010905, -0.11640000323926353, -0.24950729837728894, -0.2837149217043896, -0.33878373663741007, -0.3124044862854518, -0.3498198541294871, -0.3357778326835146, -0.35363312033553884, -0.4282620154605702, -0.44611730311259445, -0.46928880894761815, -0.48353267095662966, -0.5067041767916534, -0.5368966933496633, -0.5334871082696897, -0.5885559232027101, -0.61874843976072, -0.5851463381227364, -0.6419199455957436, -0.6295827166897581, -0.6544590150647684, -0.6740190952567795, -0.6776305208997921]\n"
     ]
    }
   ],
   "source": [
    "#Calcular la Matriz Proyectada\n",
    "def project_data(data_normalized, principal_eigenvector):\n",
    "    return [sum(row[i] * principal_eigenvector[i] for i in range(len(row))) for row in data_normalized]\n",
    "\n",
    "data_pca = project_data(data_normalized, principal_eigenvector)\n",
    "print(\"Matriz Proyectada:\\n\", data_pca)\n"
   ]
  },
  {
   "cell_type": "code",
   "execution_count": 42,
   "metadata": {},
   "outputs": [],
   "source": [
    "def reconstruct_data(projected_data, principal_eigenvector):\n",
    "    # Reconstrucción\n",
    "    reconstructed_data = []\n",
    "    for proj in projected_data:\n",
    "        recon = [proj * eig for eig in principal_eigenvector]\n",
    "        reconstructed_data.append(recon)\n",
    "    return reconstructed_data"
   ]
  },
  {
   "cell_type": "code",
   "execution_count": 52,
   "metadata": {},
   "outputs": [
    {
     "name": "stdout",
     "output_type": "stream",
     "text": [
      "Error de Reconstrucción:\n",
      " 0.28468609049574567\n"
     ]
    }
   ],
   "source": [
    "# error en la recontruccion\n",
    "def reconstruction_error(original_data, reconstructed_data):\n",
    "    error = sum(sum((orig - recon) ** 2 for orig, recon in zip(orig_row, recon_row)) for orig_row, recon_row in zip(original_data, reconstructed_data))\n",
    "    return error\n",
    "\n",
    "data_pca = project_data(data_normalized, principal_eigenvector)\n",
    "reconstructed_data = reconstruct_data(data_pca, principal_eigenvector)\n",
    "error = reconstruction_error(data_normalized, reconstructed_data)\n",
    "\n",
    "print(\"Error de Reconstrucción:\\n\", error)"
   ]
  },
  {
   "cell_type": "code",
   "execution_count": 61,
   "metadata": {},
   "outputs": [
    {
     "name": "stdout",
     "output_type": "stream",
     "text": [
      "varia 1.9999999999999996\n",
      "error en porcentaje 14.234 %\n"
     ]
    }
   ],
   "source": [
    "def reconstruction_error_percentage(original_data, reconstructed_data):\n",
    "    # Calcular el error de reconstrucción\n",
    "    error_total = reconstruction_error(original_data, reconstructed_data)\n",
    "\n",
    "\n",
    "    data_longitud = len(original_data)\n",
    "    # Calcular la varianza total de los datos originales\n",
    "    total_variance = sum(sum(orig ** 2 for orig in orig_row) for orig_row in original_data)/data_longitud\n",
    "    print(\"varia\", total_variance)\n",
    "    # Calcular el error en porcentaje\n",
    "    error_percentage = (error_total / total_variance) * 100\n",
    "    return error_percentage\n",
    "\n",
    "error_percentaje = reconstruction_error_percentage(data_normalized, reconstructed_data)\n",
    "print(\"error en porcentaje\",round(error_percentaje,3),\"%\")"
   ]
  },
  {
   "cell_type": "code",
   "execution_count": 103,
   "metadata": {},
   "outputs": [
    {
     "data": {
      "image/png": "[encoded data removed]",
      "text/plain": [
       "<Figure size 1000x600 with 1 Axes>"
      ]
     },
     "metadata": {},
     "output_type": "display_data"
    }
   ],
   "source": [
    "#pintar en una dimension\n",
    "city_names = df['City'].values \n",
    "def plot_1d(data_pca, city_names):\n",
    "    \"\"\"Pinta los datos proyectados en 1D.\"\"\"\n",
    "    plt.figure(figsize=(10, 6))\n",
    "    plt.scatter(data_pca, [0] * len(data_pca), c='blue', marker='o')\n",
    "    for i, city in enumerate(city_names):\n",
    "        plt.text(data_pca[i], 0.05, city[0], fontsize=8)\n",
    "    plt.title(\"Ciudades en 1 Dimensión (PCA)\")\n",
    "    plt.xlabel(\"Componente Principal\")\n",
    "    plt.yticks([])\n",
    "    plt.show()\n",
    "\n",
    "plot_1d(data_pca,city_names)\n"
   ]
  },
  {
   "cell_type": "code",
   "execution_count": 96,
   "metadata": {},
   "outputs": [
    {
     "data": {
      "image/png": "[encoded data removed]",
      "text/plain": [
       "<Figure size 1000x600 with 1 Axes>"
      ]
     },
     "metadata": {},
     "output_type": "display_data"
    }
   ],
   "source": [
    "def plot_2d(data, city_names):\n",
    "    \"\"\"Pinta los datos originales en 2D.\"\"\"\n",
    "    plt.figure(figsize=(10, 6))\n",
    "    \n",
    "    # Graficar los puntos\n",
    "    plt.scatter([row[0] for row in data], [row[1] for row in data], c='blue', marker='o')\n",
    "    \n",
    "    # Añadir etiquetas para cada ciudad\n",
    "    for i, city in enumerate(city_names):\n",
    "        plt.text(data[i][0], data[i][1], city, fontsize=8)\n",
    "    \n",
    "    plt.title(\"Ciudades en 2 Dimensiones\")\n",
    "    plt.xlabel(\"GDP (USD Billion)\")\n",
    "    plt.ylabel(\"Population (Millions)\")\n",
    "    plt.show()\n",
    "\n",
    "# Suposición: 'data' contiene dos columnas: GDP y Población\n",
    "# 'city_names' contiene los nombres de las ciudades\n",
    "plot_2d(data, city_names)\n"
   ]
  },
  {
   "cell_type": "code",
   "execution_count": 48,
   "metadata": {},
   "outputs": [],
   "source": [
    "import pandas as pd\n",
    "from sklearn.preprocessing import StandardScaler\n",
    "from sklearn.decomposition import PCA\n",
    "\n",
    "# Cargar los datos\n",
    "data = {\n",
    "    'City': ['Bogotá', 'Medellín', 'Cali', 'Barranquilla', 'Cartagena', 'Bucaramanga (test)', 'Pereira', 'Cúcuta (test)', 'Ibagué (test)', 'Santa Marta', 'Manizales', 'Villavicencio', 'Pasto', 'Montería', 'Valledupar', 'Neiva', 'Popayán', 'Armenia', 'Sincelejo', 'Tunja', 'Florencia', 'Riohacha', 'Quibdó', 'San Andrés', 'Yopal', 'Leticia', 'Arauca (test)', 'Mocoa (test)', 'Mitú', 'Puerto Carreño (test)'],\n",
    "    'GDP (USD Billion)': [103.50, 44.10, 22.40, 16.80, 10.50, 7.30, 6.20, 5.10, 4.80, 4.00, 3.80, 3.50, 3.20, 3.00, 2.80, 2.50, 2.30, 2.10, 2.00, 1.80, 1.70, 1.50, 1.30, 1.20, 1.10, 1.00, 0.90, 0.80, 0.70, 0.60],\n",
    "    'Population (Millions)': [7.18, 2.57, 2.23, 1.23, 1.03, 0.58, 0.48, 0.76, 0.53, 0.52, 0.43, 0.50, 0.45, 0.49, 0.47, 0.35, 0.33, 0.30, 0.28, 0.25, 0.20, 0.22, 0.13, 0.08, 0.15, 0.05, 0.08, 0.04, 0.01, 0.01]\n",
    "}\n",
    "\n",
    "df = pd.DataFrame(data)\n",
    "\n",
    "# Seleccionar las columnas relevantes\n",
    "features = df[['GDP (USD Billion)', 'Population (Millions)']]\n",
    "\n",
    "# Normalizar los datos\n",
    "scaler = StandardScaler()\n",
    "features_scaled = scaler.fit_transform(features)\n"
   ]
  },
  {
   "cell_type": "code",
   "execution_count": 50,
   "metadata": {},
   "outputs": [
    {
     "name": "stdout",
     "output_type": "stream",
     "text": [
      "varia 2.0\n",
      "Matriz de Covarianza:\n",
      " [[1.03448276 1.024666  ]\n",
      " [1.024666   1.03448276]]\n",
      "Eigenvalues:\n",
      " [2.05914876]\n",
      "Eigenvectors:\n",
      " [[0.70710678 0.70710678]]\n",
      "Varianza Explicada por el Eigenvalue:\n",
      " [0.99525523]\n",
      "Valor del Eigenvector Principal:\n",
      " [0.70710678 0.70710678]\n",
      "Matriz Proyectada:\n",
      " [ 6.8502549   2.25429149  1.28986071  0.55599905  0.22215487 -0.13264057\n",
      " -0.22552843 -0.1164     -0.2495073  -0.28371492 -0.33878374 -0.31240449\n",
      " -0.34981985 -0.33577783 -0.35363312 -0.42826202 -0.4461173  -0.46928881\n",
      " -0.48353267 -0.50670418 -0.53689669 -0.53348711 -0.58855592 -0.61874844\n",
      " -0.58514634 -0.64191995 -0.62958272 -0.65445902 -0.6740191  -0.67763052]\n",
      "Error de Reconstrucción:\n",
      " 0.2846860904957458\n",
      "Error de Reconstrucción en Porcentaje:\n",
      " 14.234304524787289\n"
     ]
    }
   ],
   "source": [
    "# Aplicar PCA\n",
    "pca = PCA(n_components=1)\n",
    "features_pca = pca.fit_transform(features_scaled)\n",
    "\n",
    "# Obtener la matriz de covarianza\n",
    "cov_matrix = np.cov(features_scaled.T)\n",
    "\n",
    "# Obtener los eigenvalues y eigenvectors\n",
    "eigenvalues = pca.explained_variance_\n",
    "eigenvectors = pca.components_\n",
    "\n",
    "# Calcular la varianza total\n",
    "variance_total = np.sum(np.var(features_scaled, axis=0))\n",
    "\n",
    "# Proyectar los datos originales\n",
    "projected_data = features_pca.flatten()\n",
    "\n",
    "# Reconstruir los datos\n",
    "reconstructed_data = pca.inverse_transform(features_pca)\n",
    "\n",
    "# Calcular el error de reconstrucción\n",
    "reconstruction_error = np.sum((features_scaled - reconstructed_data) ** 2)\n",
    "\n",
    "# Calcular el porcentaje de error\n",
    "def error_percentage(error, variance_total):\n",
    "    print(\"varia\", variance_total)\n",
    "    return (error / variance_total) * 100\n",
    "\n",
    "error_percent = error_percentage(reconstruction_error, variance_total)\n",
    "\n",
    "print(\"Matriz de Covarianza:\\n\", cov_matrix)\n",
    "print(\"Eigenvalues:\\n\", eigenvalues)\n",
    "print(\"Eigenvectors:\\n\", eigenvectors)\n",
    "print(\"Varianza Explicada por el Eigenvalue:\\n\", pca.explained_variance_ratio_)\n",
    "print(\"Valor del Eigenvector Principal:\\n\", eigenvectors[0])\n",
    "print(\"Matriz Proyectada:\\n\", projected_data)\n",
    "print(\"Error de Reconstrucción:\\n\", reconstruction_error)\n",
    "print(\"Error de Reconstrucción en Porcentaje:\\n\", error_percent)\n"
   ]
  }
 ],
 "metadata": {
  "kernelspec": {
   "display_name": "Python 3",
   "language": "python",
   "name": "python3"
  },
  "language_info": {
   "codemirror_mode": {
    "name": "ipython",
    "version": 3
   },
   "file_extension": ".py",
   "mimetype": "text/x-python",
   "name": "python",
   "nbconvert_exporter": "python",
   "pygments_lexer": "ipython3",
   "version": "3.9.7"
  }
 },
 "nbformat": 4,
 "nbformat_minor": 2
}
